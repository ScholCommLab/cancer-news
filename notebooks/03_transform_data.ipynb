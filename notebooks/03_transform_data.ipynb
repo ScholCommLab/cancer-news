{
 "cells": [
  {
   "cell_type": "code",
   "execution_count": 1,
   "metadata": {},
   "outputs": [],
   "source": [
    "%matplotlib inline\n",
    "\n",
    "import pandas as pd\n",
    "import numpy as np\n",
    "import json\n",
    "import re\n",
    "import operator\n",
    "from itertools import chain\n",
    "\n",
    "import matplotlib.pyplot as plt\n",
    "import seaborn as sns\n",
    "\n",
    "from pprint import pprint\n",
    "\n",
    "sns.set_style(\"darkgrid\")"
   ]
  },
  {
   "cell_type": "code",
   "execution_count": 120,
   "metadata": {},
   "outputs": [],
   "source": [
    "# helpers to deal with various datatypes\n",
    "def JSONParser(data):\n",
    "    j = json.loads(data)\n",
    "    if j: \n",
    "        return j\n",
    "    else:\n",
    "        return None\n",
    "\n",
    "converters={\"pmid\": str,\n",
    "       \"doi\": str,\n",
    "       \"title\": str,\n",
    "       \"journal\":str,\n",
    "       \"pub_year\":int,\n",
    "       \"pub_types\":JSONParser,\n",
    "       \"mesh_terms\":JSONParser,\n",
    "       \"grants\":JSONParser,\n",
    "       \"authors\":JSONParser,\n",
    "       \"author_affils\":JSONParser}\n",
    "\n",
    "# read in data\n",
    "df = pd.read_csv(\"../data/full_cancer_data.csv\", converters=converters)"
   ]
  },
  {
   "cell_type": "code",
   "execution_count": 261,
   "metadata": {},
   "outputs": [],
   "source": [
    "# helpers to deal with various datatypes\n",
    "def JSONParser(data):\n",
    "    j = json.loads(data)\n",
    "    if j: \n",
    "        return j\n",
    "    else:\n",
    "        return None\n",
    "\n",
    "converters={\"pmid\": str,\n",
    "            \"timestamp\": str,\n",
    "            \"am_response\":JSONParser}\n",
    "\n",
    "# read in data\n",
    "altmetric = pd.read_csv(\"../data/altmetrics/pubmed.csv\", converters=converters)\n",
    "altmetric = altmetric.set_index('pmid')"
   ]
  },
  {
   "cell_type": "code",
   "execution_count": 238,
   "metadata": {},
   "outputs": [
    {
     "data": {
      "text/plain": [
       "Index(['pmid', 'doi', 'title', 'journal', 'pub_year', 'pub_types',\n",
       "       'mesh_terms', 'grants', 'authors', 'author_affils'],\n",
       "      dtype='object')"
      ]
     },
     "execution_count": 238,
     "metadata": {},
     "output_type": "execute_result"
    }
   ],
   "source": [
    "# Deduplicate !!still need to look into that!!\n",
    "df = df[~df.pmid.duplicated(keep='first')]\n",
    "\n",
    "# 2016 subset\n",
    "df16 = df[df['pub_year'] == 2016]\n",
    "df16.columns"
   ]
  },
  {
   "cell_type": "markdown",
   "metadata": {},
   "source": [
    "## Create MeSH desc and qual dummies\n",
    "\n",
    "Terms in the selected subtrees of a top 13 MeSH descriptor are aggregated as top-level terms"
   ]
  },
  {
   "cell_type": "code",
   "execution_count": 99,
   "metadata": {},
   "outputs": [],
   "source": [
    "mesh_top13 =  [\"Urinary Bladder Neoplasms\",\n",
    "            \"Breast Neoplasms\",\n",
    "            \"Colorectal Neoplasms\",\n",
    "            \"Endometrial Neoplasms\",\n",
    "            \"Kidney Neoplasms\",\n",
    "            \"Leukemia\",\n",
    "            \"Liver Neoplasms\",\n",
    "            \"Lung Neoplasms\",\n",
    "            \"Melanoma\",\n",
    "            \"Lymphoma, Non-Hodgkin\",\n",
    "            \"Pancreatic Neoplasms\",\n",
    "            \"Prostatic Neoplasms\",\n",
    "            \"Thyroid Neoplasms\"]\n",
    "\n",
    "mesh_qual = [\"diagnosis\",\n",
    "            \"diagnostic imaging\",\n",
    "            \"mortality\",\n",
    "            \"therapy\",\n",
    "            \"diet therapy\",\n",
    "            \"drug therapy\",\n",
    "            \"nursing\",\n",
    "            \"prevention & control\",\n",
    "            \"radiotherapy\",\n",
    "            \"rehabilitation\",\n",
    "            \"surgery\",\n",
    "            \"transplantation\"]"
   ]
  },
  {
   "cell_type": "code",
   "execution_count": 70,
   "metadata": {},
   "outputs": [],
   "source": [
    "terms = {}\n",
    "numbers = {}\n",
    " \n",
    "meshFile = '../data/mesh_2018/d2018.bin'\n",
    "with open(meshFile, mode='r') as file:\n",
    "    mesh = file.readlines()\n",
    "    \n",
    "for line in mesh:\n",
    "    meshTerm = re.search('MH = (.+)$', line)\n",
    "    if meshTerm:\n",
    "        term = meshTerm.group(1)\n",
    "    meshNumber = re.search('MN = (.+)$', line)\n",
    "    if meshNumber:\n",
    "        number = meshNumber.group(1)\n",
    "        if number == None:\n",
    "            print(\"yes\")\n",
    "        numbers[number] = term\n",
    "        if term in terms:\n",
    "            terms[term] = terms[term] + ' ' + number\n",
    "        else:\n",
    "            terms[term] = number"
   ]
  },
  {
   "cell_type": "code",
   "execution_count": 222,
   "metadata": {},
   "outputs": [],
   "source": [
    "# only use disease mesh terms\n",
    "c_keys = [key for key in sorted(list(numbers.keys())) if key[0] == \"C\"]\n",
    "\n",
    "lookups = {}\n",
    "for t in meshterms:\n",
    "    x = []\n",
    "    for subnr in str.split(terms[t], \" \"):\n",
    "        x.extend([str.lower(numbers[key]) for key in c_keys if subnr in key])\n",
    "    lookups[t] = set(x)"
   ]
  },
  {
   "cell_type": "code",
   "execution_count": 307,
   "metadata": {},
   "outputs": [],
   "source": [
    "out = df16[['pmid', 'doi','title','pub_year', 'mesh_terms']]\n",
    "out = out.set_index('pmid')\n",
    "add_cols = ['news_mention']\n",
    "out = pd.concat([out,\n",
    "                 altmetric['am_response'],\n",
    "                 pd.DataFrame(np.zeros((28372, 13), dtype=bool), index=out.index, columns=mesh_top13, dtype=bool),\n",
    "                 pd.DataFrame(np.zeros((28372, 12), dtype=bool), index=out.index, columns=mesh_qual, dtype=bool),\n",
    "                 pd.DataFrame(np.zeros((28372, len(add_cols)), dtype=bool), index=out.index, columns=add_cols, dtype=bool)],\n",
    "                axis=1, join_axes=[out.index])"
   ]
  },
  {
   "cell_type": "code",
   "execution_count": 311,
   "metadata": {},
   "outputs": [],
   "source": [
    "def create_dummies(row):\n",
    "    if row.mesh_terms:\n",
    "        for mt,mqs in row.mesh_terms.items():\n",
    "            for topterm, subterms in lookups.items():\n",
    "                if mt in subterms:\n",
    "                    row[topterm] = True\n",
    "                for mq in mqs:\n",
    "                    if mq in mesh_qual:\n",
    "                        row[mq] = True\n",
    "       \n",
    "    try:\n",
    "        row['am_response']['posts']['news']\n",
    "        row['news_mention'] = True\n",
    "    except:\n",
    "        None\n",
    "    return row\n",
    "\n",
    "out = out.apply(create_dummies, axis=1)\n",
    "out[mesh_qual+mesh_top13+['news_mention']] = out[mesh_qual+mesh_top13+['news_mention']].astype(float)"
   ]
  },
  {
   "cell_type": "code",
   "execution_count": 321,
   "metadata": {},
   "outputs": [],
   "source": [
    "df_out = out.drop(['mesh_terms', 'am_response'], axis=1)\n",
    "df_out.to_csv(\"test.csv\")"
   ]
  },
  {
   "cell_type": "markdown",
   "metadata": {},
   "source": [
    "# Create Dummy Variables for Mesh Desc+Qual Pairs"
   ]
  },
  {
   "cell_type": "code",
   "execution_count": null,
   "metadata": {},
   "outputs": [],
   "source": [
    "def mesh_hash(desc, qual=None):\n",
    "    if qual:\n",
    "        a = \"-\".join(list(map(lambda x: x[:4], desc.split(' ')[:1] if ' ' in desc else [desc])))\n",
    "        if qual == 'diagnostic imaging':\n",
    "            b = \"-\".join(list(map(lambda x: x[:4], qual.split(' ')[:1] if ' ' in qual else [qual]))) + \"-img\"\n",
    "        else:\n",
    "            b = \"-\".join(list(map(lambda x: x[:4], qual.split(' ')[:1] if ' ' in qual else [qual])))\n",
    "        return '{}_{}'.format(a,b)\n",
    "    else:\n",
    "        return \"-\".join(list(map(lambda x: x[:4], desc.split(' ')[:1] if ' ' in desc else [desc])))\n",
    "    \n",
    "categories=[]\n",
    "for desc in mesh_top13:\n",
    "    categories.append(mesh_hash(desc))\n",
    "    for qual in meshqual:\n",
    "        categories.append(mesh_hash(desc, qual))\n",
    "categories.append('pmid')\n",
    "\n",
    "# dummy variables for MeSH terms\n",
    "rows = []\n",
    "for rid, row in df16[['pmid','mesh_terms']].iterrows():\n",
    "    temp_dict = [0] * 169 + [row['pmid']]\n",
    "    \n",
    "    if row['mesh_terms']:\n",
    "        mesh = { a: row['mesh_terms'][a] for a in meshterms if a in row['mesh_terms']}\n",
    "        for key, quals in mesh.items():\n",
    "            temp_dict[categories.index(mesh_hash(key))] = 1\n",
    "            for qual in quals:\n",
    "                if qual in meshqual:\n",
    "                    temp_dict[categories.index(mesh_hash(key, qual))] = 1\n",
    "\n",
    "    rows.append(temp_dict)\n",
    "mesh_dummies = pd.DataFrame(rows, columns=categories)"
   ]
  },
  {
   "cell_type": "code",
   "execution_count": null,
   "metadata": {},
   "outputs": [],
   "source": [
    "# dummy variables for the publication types\n",
    "pubtype_dummies = pd.get_dummies(pd.DataFrame(df16.pub_types.values.tolist()),prefix_sep='', prefix='')"
   ]
  },
  {
   "cell_type": "markdown",
   "metadata": {},
   "source": [
    "## Merge and export CSV"
   ]
  },
  {
   "cell_type": "code",
   "execution_count": null,
   "metadata": {},
   "outputs": [],
   "source": [
    "result = df16[[\"pmid\",\"doi\",\"title\",\"journal\",\"pub_year\",\"pub_types\",\"grants\",\"authors\",\"author_affils\"]]    \n",
    "result.merge(mesh_dummies, on='pmid', how='inner')\n",
    "\n",
    "# Write results to CSV\n",
    "result.to_csv(\"../data/output/2016_with_dummies.csv\")"
   ]
  }
 ],
 "metadata": {
  "kernelspec": {
   "display_name": "altmetrics",
   "language": "python",
   "name": "altmetrics"
  },
  "language_info": {
   "codemirror_mode": {
    "name": "ipython",
    "version": 3
   },
   "file_extension": ".py",
   "mimetype": "text/x-python",
   "name": "python",
   "nbconvert_exporter": "python",
   "pygments_lexer": "ipython3",
   "version": "3.5.2"
  }
 },
 "nbformat": 4,
 "nbformat_minor": 2
}
