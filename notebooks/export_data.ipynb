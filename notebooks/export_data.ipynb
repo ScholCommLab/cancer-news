{
 "cells": [
  {
   "cell_type": "code",
   "execution_count": null,
   "metadata": {},
   "outputs": [],
   "source": [
    "%matplotlib inline\n",
    "\n",
    "import pandas as pd\n",
    "import numpy as np\n",
    "import json\n",
    "import operator\n",
    "from itertools import chain\n",
    "\n",
    "import matplotlib.pyplot as plt\n",
    "import seaborn as sns\n",
    "\n",
    "from pprint import pprint"
   ]
  },
  {
   "cell_type": "code",
   "execution_count": null,
   "metadata": {},
   "outputs": [],
   "source": [
    "sns.set_style(\"darkgrid\")"
   ]
  },
  {
   "cell_type": "code",
   "execution_count": null,
   "metadata": {},
   "outputs": [],
   "source": [
    "# helpers to deal with various datatypes\n",
    "def JSONParser(data):\n",
    "    j = json.loads(data)\n",
    "    if j: \n",
    "        return j\n",
    "    else:\n",
    "        return None\n",
    "\n",
    "converters={\"pmid\": str,\n",
    "       \"doi\": str,\n",
    "       \"title\": str,\n",
    "       \"journal\":str,\n",
    "       \"pub_year\":int,\n",
    "       \"pub_types\":JSONParser,\n",
    "       \"mesh_terms\":JSONParser,\n",
    "       \"grants\":JSONParser,\n",
    "       \"authors\":JSONParser,\n",
    "       \"author_affils\":JSONParser}\n",
    "\n",
    "# read in data\n",
    "df = pd.read_csv(\"../data/full_cancer_data.csv\", converters=converters)"
   ]
  },
  {
   "cell_type": "code",
   "execution_count": null,
   "metadata": {},
   "outputs": [],
   "source": [
    "# Deduplicate !!still need to look into that!!\n",
    "df = df[~df.pmid.duplicated(keep='first')]"
   ]
  },
  {
   "cell_type": "code",
   "execution_count": null,
   "metadata": {},
   "outputs": [],
   "source": [
    "# 2016 subset\n",
    "df16 = df[df['pub_year'] == 2016]"
   ]
  },
  {
   "cell_type": "code",
   "execution_count": null,
   "metadata": {},
   "outputs": [],
   "source": [
    "# Seleceted MeSH descriptors and qualifiers\n",
    "# all keywords have been transformed to lowercase\n",
    "meshterms = [\"urinary bladder neoplasms\",\n",
    "            \"breast neoplasms\",\n",
    "            \"colorectal neoplasms\",\n",
    "            \"endometrial neoplasms\",\n",
    "            \"kidney neoplasms\",\n",
    "            \"leukemia\",\n",
    "            \"liver neoplasms\",\n",
    "            \"lung neoplasms\",\n",
    "            \"melanoma\",\n",
    "            \"lymphoma, non-hodgkins\",\n",
    "            \"pancreatic neoplasms\",\n",
    "            \"prostatic neoplasms\",\n",
    "            \"thyroid neoplasms\"]\n",
    "\n",
    "meshqual = [\"diagnosis\",\n",
    "            \"diagnostic imaging\",\n",
    "            \"mortality\",\n",
    "            \"therapy\",\n",
    "            \"diet therapy\",\n",
    "            \"drug therapy\",\n",
    "            \"nursing\",\n",
    "            \"prevention & control\",\n",
    "            \"radiotherapy\",\n",
    "            \"rehabilitation\",\n",
    "            \"surgery\",\n",
    "            \"transplantation\"]"
   ]
  },
  {
   "cell_type": "code",
   "execution_count": null,
   "metadata": {},
   "outputs": [],
   "source": [
    "def mesh_hash(desc, qual=None):\n",
    "    if qual:\n",
    "        a = \"-\".join(list(map(lambda x: x[:4], desc.split(' ')[:1] if ' ' in desc else [desc])))\n",
    "        if qual == 'diagnostic imaging':\n",
    "            b = \"-\".join(list(map(lambda x: x[:4], qual.split(' ')[:1] if ' ' in qual else [qual]))) + \"-img\"\n",
    "        else:\n",
    "            b = \"-\".join(list(map(lambda x: x[:4], qual.split(' ')[:1] if ' ' in qual else [qual])))\n",
    "        return '{}_{}'.format(a,b)\n",
    "    else:\n",
    "        return \"-\".join(list(map(lambda x: x[:4], desc.split(' ')[:1] if ' ' in desc else [desc])))\n",
    "    \n",
    "categories=[]\n",
    "for desc in meshterms:\n",
    "    categories.append(mesh_hash(desc))\n",
    "    for qual in meshqual:\n",
    "        categories.append(mesh_hash(desc, qual))\n",
    "categories.append('pmid')"
   ]
  },
  {
   "cell_type": "markdown",
   "metadata": {},
   "source": [
    "## Dummy variables"
   ]
  },
  {
   "cell_type": "code",
   "execution_count": null,
   "metadata": {},
   "outputs": [],
   "source": [
    "# dummy variables for MeSH terms\n",
    "rows = []\n",
    "for rid, row in df16[['pmid','mesh_terms']].iterrows():\n",
    "    temp_dict = [0] * 169 + [row['pmid']]\n",
    "    \n",
    "    if row['mesh_terms']:\n",
    "        mesh = { a: row['mesh_terms'][a] for a in meshterms if a in row['mesh_terms']}\n",
    "        for key, quals in mesh.items():\n",
    "            temp_dict[categories.index(mesh_hash(key))] = 1\n",
    "            for qual in quals:\n",
    "                if qual in meshqual:\n",
    "                    temp_dict[categories.index(mesh_hash(key, qual))] = 1\n",
    "\n",
    "    rows.append(temp_dict)\n",
    "mesh_dummies = pd.DataFrame(rows, columns=categories)"
   ]
  },
  {
   "cell_type": "code",
   "execution_count": null,
   "metadata": {},
   "outputs": [],
   "source": [
    "# dummy variables for the publication types\n",
    "pubtype_dummies = pd.get_dummies(pd.DataFrame(df16.pub_types.values.tolist()),prefix_sep='', prefix='')"
   ]
  },
  {
   "cell_type": "markdown",
   "metadata": {},
   "source": [
    "## Merge and export CSV"
   ]
  },
  {
   "cell_type": "code",
   "execution_count": null,
   "metadata": {},
   "outputs": [],
   "source": [
    "result = df16[[\"pmid\",\"doi\",\"title\",\"journal\",\"pub_year\",\"pub_types\",\"grants\",\"authors\",\"author_affils\"]]    \n",
    "result.merge(mesh_dummies, on='pmid', how='inner')\n",
    "\n",
    "# Write results to CSV\n",
    "result.to_csv(\"../data/output/2016_with_dummies.csv\")"
   ]
  }
 ],
 "metadata": {
  "kernelspec": {
   "display_name": "altmetrics",
   "language": "python",
   "name": "altmetrics"
  },
  "language_info": {
   "codemirror_mode": {
    "name": "ipython",
    "version": 3
   },
   "file_extension": ".py",
   "mimetype": "text/x-python",
   "name": "python",
   "nbconvert_exporter": "python",
   "pygments_lexer": "ipython3",
   "version": "3.5.2"
  }
 },
 "nbformat": 4,
 "nbformat_minor": 2
}
